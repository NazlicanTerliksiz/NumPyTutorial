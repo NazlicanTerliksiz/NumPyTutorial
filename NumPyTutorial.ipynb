{
  "metadata": {
    "language_info": {
      "codemirror_mode": {
        "name": "python",
        "version": 3
      },
      "file_extension": ".py",
      "mimetype": "text/x-python",
      "name": "python",
      "nbconvert_exporter": "python",
      "pygments_lexer": "ipython3",
      "version": "3.8"
    },
    "kernelspec": {
      "name": "python",
      "display_name": "Pyolite",
      "language": "python"
    },
    "colab": {
      "name": "NumPyTutorial.ipynb",
      "provenance": []
    }
  },
  "nbformat_minor": 0,
  "nbformat": 4,
  "cells": [
    {
      "cell_type": "code",
      "source": [
        "import numpy as np "
      ],
      "metadata": {
        "trusted": true,
        "id": "xIggElVXrxuo"
      },
      "execution_count": null,
      "outputs": []
    },
    {
      "cell_type": "code",
      "source": [
        "#an array with 8 elements is created\n",
        "one_dimensional_array = np.array([1.5, 2.6, 3.7, 4.8, 6.9, 7.4, 8.2, 9.3])\n",
        "print(one_dimensional_array)"
      ],
      "metadata": {
        "trusted": true,
        "id": "DsdYt7OWrxuq",
        "outputId": "15f1e0d3-bcbe-4c1b-f950-5bf803057bb4"
      },
      "execution_count": null,
      "outputs": [
        {
          "name": "stdout",
          "text": "[1.5 2.6 3.7 4.8 6.9 7.4 8.2 9.3]\n",
          "output_type": "stream"
        }
      ]
    },
    {
      "cell_type": "code",
      "source": [
        "#a matrix of 3x2 is created\n",
        "two_dimensional_array = np.array([[1, 2], [3, 4], [5, 6]])\n",
        "print(two_dimensional_array)"
      ],
      "metadata": {
        "trusted": true,
        "id": "YPMGUAx3rxur",
        "outputId": "960d88e1-b00b-4ae4-f2a2-d02c7118a29e"
      },
      "execution_count": null,
      "outputs": [
        {
          "name": "stdout",
          "text": "[[1 2]\n [3 4]\n [5 6]]\n",
          "output_type": "stream"
        }
      ]
    },
    {
      "cell_type": "code",
      "source": [
        "#the array is filled with numbers dec 7 to 14\n",
        "sequence_of_integers = np.arange(7, 14)\n",
        "print(sequence_of_integers)"
      ],
      "metadata": {
        "trusted": true,
        "id": "bkQLuphprxus",
        "outputId": "b8031694-8e14-40cb-d742-1fcdd4c9e8fa"
      },
      "execution_count": null,
      "outputs": [
        {
          "name": "stdout",
          "text": "[ 7  8  9 10 11 12 13]\n",
          "output_type": "stream"
        }
      ]
    },
    {
      "cell_type": "code",
      "source": [
        "#a random sequence of 5 elements dec 30 to 80 is generated\n",
        "random_integers_between_30_and_80 = np.random.randint(low=29, high=81, size=(5))\n",
        "print(random_integers_between_30_and_80)"
      ],
      "metadata": {
        "trusted": true,
        "id": "cYE6JoK8rxus",
        "outputId": "92816420-3a10-462b-ba6b-f1a2f4ebd2fc"
      },
      "execution_count": null,
      "outputs": [
        {
          "name": "stdout",
          "text": "[38 54 50 46 57]\n",
          "output_type": "stream"
        }
      ]
    },
    {
      "cell_type": "code",
      "source": [
        "#an array of 6 float elements is randomly generated between dec.0 and 1.0\n",
        "random_floats_between_0_and_1 = np.random.random([6])\n",
        "print(random_floats_between_0_and_1)"
      ],
      "metadata": {
        "trusted": true,
        "id": "iQ8Z1rC6rxus",
        "outputId": "83e92184-4e6d-49d7-ea1d-07dc68ac136e"
      },
      "execution_count": null,
      "outputs": [
        {
          "name": "stdout",
          "text": "[0.08228643 0.61741622 0.21906986 0.63555034 0.1988785  0.16942525]\n",
          "output_type": "stream"
        }
      ]
    },
    {
      "cell_type": "code",
      "source": [
        "#2.0 is added to the value of each element in the array\n",
        "random_floats_between_2_and_3 = random_floats_between_0_and_1 + 2.0\n",
        "print(random_floats_between_2_and_3)"
      ],
      "metadata": {
        "trusted": true,
        "id": "-LDXVpzrrxut",
        "outputId": "70e2e030-8c98-4cfb-da83-0828671d452b"
      },
      "execution_count": null,
      "outputs": [
        {
          "name": "stdout",
          "text": "[2.08228643 2.61741622 2.21906986 2.63555034 2.1988785  2.16942525]\n",
          "output_type": "stream"
        }
      ]
    },
    {
      "cell_type": "code",
      "source": [
        "#the value of each element in the array is multiplied by 3.0\n",
        "random_integers_between_100_and_300 = random_integers_between_30_and_80 * 3\n",
        "print(random_integers_between_100_and_300)"
      ],
      "metadata": {
        "trusted": true,
        "id": "zqEzDuazrxut",
        "outputId": "f076fbce-e16a-4796-ce8b-0dfbe15a3c30"
      },
      "execution_count": null,
      "outputs": [
        {
          "name": "stdout",
          "text": "[114 162 150 138 171]\n",
          "output_type": "stream"
        }
      ]
    },
    {
      "cell_type": "code",
      "source": [
        "#An int array dec 6 to 20 (inclusive) is assigned to a property called a NumPy array.\n",
        "#A NumPy array named Tag is assigned 15 values\n",
        "feature = np.arange(6, 21)\n",
        "print(feature)\n",
        "label = (feature * 3) + 4\n",
        "print(label)"
      ],
      "metadata": {
        "trusted": true,
        "id": "dPW1dlrUrxuu",
        "outputId": "0d365aa4-8ebb-4d94-8185-74f1be23e48e"
      },
      "execution_count": null,
      "outputs": [
        {
          "name": "stdout",
          "text": "[ 6  7  8  9 10 11 12 13 14 15 16 17 18 19 20]\n[22 25 28 31 34 37 40 43 46 49 52 55 58 61 64]\n",
          "output_type": "stream"
        }
      ]
    },
    {
      "cell_type": "code",
      "source": [
        "#each value assigned to dec label is changed by adding a different random float value between -2 and +2\n",
        "noise = (np.random.random([15]) * 4) - 2\n",
        "print(noise)\n",
        "label = label + noise \n",
        "print(label)"
      ],
      "metadata": {
        "trusted": true,
        "id": "tkoIKJfkrxuu",
        "outputId": "084977ba-0ec5-4cd4-fba5-abc999f66b28"
      },
      "execution_count": null,
      "outputs": [
        {
          "name": "stdout",
          "text": "[ 0.74801615  0.34110674 -0.25355422  1.86648053 -1.7178096  -1.48426161\n  1.42446379 -1.76083569 -1.87356197  1.23393403  0.64686356  1.76359895\n -0.37732134  1.29057127  1.31921738]\n[22.74801615 25.34110674 27.74644578 32.86648053 32.2821904  35.51573839\n 41.42446379 41.23916431 44.12643803 50.23393403 52.64686356 56.76359895\n 57.62267866 62.29057127 65.31921738]\n",
          "output_type": "stream"
        }
      ]
    }
  ]
}